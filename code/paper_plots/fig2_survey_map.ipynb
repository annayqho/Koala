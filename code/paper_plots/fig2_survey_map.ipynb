{
 "cells": [
  {
   "cell_type": "code",
   "execution_count": 2,
   "metadata": {
    "collapsed": true
   },
   "outputs": [],
   "source": [
    "import matplotlib.pyplot as plt\n",
    "import matplotlib as mpl\n",
    "import seaborn as sns\n",
    "import os\n",
    "import pandas as pd\n",
    "import numpy as np\n",
    "\n",
    "from astropy import units as u"
   ]
  },
  {
   "cell_type": "code",
   "execution_count": 3,
   "metadata": {
    "collapsed": true
   },
   "outputs": [],
   "source": [
    "def count_fields(df, w):\n",
    "    grp = df[w].groupby('fieldID')\n",
    "    nobs = grp['expMJD'].agg(len)\n",
    "    nobs.name = 'nobs'\n",
    "    return nobs"
   ]
  },
  {
   "cell_type": "code",
   "execution_count": 5,
   "metadata": {
    "collapsed": false
   },
   "outputs": [],
   "source": [
    "# read in field corners\n",
    "fields = pd.read_csv('/Users/annaho/Dropbox/Projects/Research/Koala/data/ztf_field_corners.csv',index_col='field')"
   ]
  },
  {
   "cell_type": "code",
   "execution_count": 30,
   "metadata": {
    "collapsed": false
   },
   "outputs": [],
   "source": [
    "# Convert field corners to healpix pixels\n",
    "import healpy as hp\n",
    "nside = 2048\n",
    "n_pix = hp.nside2npix(nside)\n",
    "field_pixels = {}\n",
    "for idx, field in fields.iterrows():\n",
    "    ra = np.array([field['ra1'], field['ra2'], field['ra3'], field['ra4']])\n",
    "    dec = np.array([field['dec1'], field['dec2'], field['dec3'], field['dec4']])\n",
    "\n",
    "    theta = np.radians(90.0 - dec)\n",
    "    phi = np.radians(ra)\n",
    "\n",
    "    vertices = hp.ang2vec(theta, phi)\n",
    "    list_of_pixels = hp.query_polygon(nside, vertices)\n",
    "    field_pixels[idx] = list_of_pixels\n"
   ]
  },
  {
   "cell_type": "code",
   "execution_count": 33,
   "metadata": {
    "collapsed": false
   },
   "outputs": [],
   "source": [
    "def fill_pixels(df):\n",
    "    m = np.zeros(n_pix)\n",
    "    for field, val in df.iteritems():\n",
    "        if np.logical_and(field != 870, field != 871):\n",
    "            m[field_pixels[field]] += val\n",
    "    #m[m < 1] = hp.UNSEEN\n",
    "    return m "
   ]
  },
  {
   "cell_type": "code",
   "execution_count": 6,
   "metadata": {
    "collapsed": true
   },
   "outputs": [],
   "source": [
    "import ligo.skymap.plot.allsky as pas\n",
    "from matplotlib.projections import projection_registry\n",
    "from astropy.visualization.wcsaxes.frame import EllipticalFrame"
   ]
  },
  {
   "cell_type": "code",
   "execution_count": 7,
   "metadata": {
    "collapsed": true
   },
   "outputs": [],
   "source": [
    "class AntiCenterAxes(pas.AutoScaledWCSAxes):\n",
    "    \"\"\"Base class for a multi-purpose all-sky projection\"\"\"\n",
    "\n",
    "    def __init__(self, *args, **kwargs):\n",
    "        kwargs = dict(kwargs)\n",
    "        obstime = kwargs.pop('obstime', None)\n",
    "        header = {\n",
    "            'NAXIS': 2,\n",
    "            'NAXIS1': 360,\n",
    "            'NAXIS2': 180,\n",
    "            'CRPIX1': 180.5,\n",
    "            'CRPIX2': 90.5,\n",
    "            'CRVAL1': 0.0,\n",
    "            'CRVAL2': 0.0,\n",
    "            'CDELT1': -2 * np.sqrt(2) / np.pi,\n",
    "            'CDELT2': 2 * np.sqrt(2) / np.pi,\n",
    "            'CTYPE1': self._xcoord + '-' + self._wcsprj,\n",
    "            'CTYPE2': self._ycoord + '-' + self._wcsprj,\n",
    "            'RADESYS': self._radesys}\n",
    "        if obstime is not None:\n",
    "            header['DATE-OBS'] = Time(obstime).utc.isot\n",
    "        super().__init__(\n",
    "            header, *args, frame_class=EllipticalFrame, **kwargs)\n",
    "        self.coords[0].set_ticks(spacing=30 * u.deg)\n",
    "        self.coords[1].set_ticks(spacing=30 * u.deg)\n",
    "        self.coords[0].set_ticklabel(exclude_overlapping=True)\n",
    "        self.coords[1].set_ticklabel(exclude_overlapping=True)\n",
    "        #self.coords[1].set_ticklabel_position('lbt')"
   ]
  },
  {
   "cell_type": "code",
   "execution_count": 8,
   "metadata": {
    "collapsed": true
   },
   "outputs": [],
   "source": [
    "class AstroDegreesAitoffAntiCenterAxes(pas.Astro, pas.Degrees, pas.Aitoff, AntiCenterAxes):\n",
    "    name = 'astro degrees aitoff anticenter'"
   ]
  },
  {
   "cell_type": "code",
   "execution_count": 9,
   "metadata": {
    "collapsed": true
   },
   "outputs": [],
   "source": [
    "projection_registry.register(AstroDegreesAitoffAntiCenterAxes)        \n"
   ]
  },
  {
   "cell_type": "code",
   "execution_count": 10,
   "metadata": {
    "collapsed": true
   },
   "outputs": [],
   "source": [
    "cmaps = {'g':'Blues','r':'Oranges','i':'RdPu'}\n",
    "vmax = {(3,'g'):200,(3,'r'):200,(3,'i'):50}\n"
   ]
  },
  {
   "cell_type": "code",
   "execution_count": 6,
   "metadata": {
    "collapsed": false
   },
   "outputs": [],
   "source": [
    "from sqlalchemy import create_engine\n",
    "\n",
    "path = '/Users/annaho/Dropbox/Projects/Research/Koala/data/caltech_1DC.db'\n",
    "engine = create_engine('sqlite:///%s' %path)\n",
    "\n",
    "df = pd.read_sql('Summary', engine)"
   ]
  },
  {
   "cell_type": "code",
   "execution_count": 34,
   "metadata": {
    "collapsed": false
   },
   "outputs": [
    {
     "name": "stderr",
     "output_type": "stream",
     "text": [
      "/Users/annaho/anaconda/lib/python3.5/site-packages/astropy_healpix/core.py:519: RuntimeWarning: invalid value encountered in bilinear_interpolation_weights\n",
      "  result = _core.bilinear_interpolation_weights(lon, lat, nside)\n",
      "/Users/annaho/anaconda/lib/python3.5/site-packages/astropy_healpix/core.py:519: RuntimeWarning: invalid value encountered in bilinear_interpolation_weights\n",
      "  result = _core.bilinear_interpolation_weights(lon, lat, nside)\n"
     ]
    }
   ],
   "source": [
    "prop = 3\n",
    "for filt in ['g','r']:\n",
    "    nobs = count_fields(df, (df['propID'] == prop) & (df['filter'] == filt) & \n",
    "                        ~df['subprogram'].str.startswith('reference') & ~df['subprogram'].str.startswith('ToO'))\n",
    "    m = fill_pixels(nobs)\n",
    "        \n",
    "    cmap = plt.cm.get_cmap(cmaps[filt])\n",
    "    cmap.set_under(\"white\")\n",
    "\n",
    "\n",
    "    fig = plt.figure()\n",
    "    ax = plt.axes(\n",
    "        [0.05, 0.05, 0.9, 0.9],\n",
    "        projection='astro degrees aitoff anticenter')\n",
    "    mappable = ax.imshow_hpx(m,cmap=cmap, vmin=1,vmax=vmax[(prop,filt)]) \n",
    "    plt.xlabel('RA')\n",
    "    plt.ylabel('Dec')\n",
    "\n",
    "    plt.colorbar(mappable=mappable,orientation='horizontal',shrink=0.5,label='Number of epochs')\n",
    "    plt.savefig('coverage_%s_%s.png' %(prop, filt),bbox_inches='tight',dpi=300)"
   ]
  },
  {
   "cell_type": "code",
   "execution_count": null,
   "metadata": {
    "collapsed": true
   },
   "outputs": [],
   "source": []
  }
 ],
 "metadata": {
  "kernelspec": {
   "display_name": "Python 3",
   "language": "python",
   "name": "python3"
  },
  "language_info": {
   "codemirror_mode": {
    "name": "ipython",
    "version": 3
   },
   "file_extension": ".py",
   "mimetype": "text/x-python",
   "name": "python",
   "nbconvert_exporter": "python",
   "pygments_lexer": "ipython3",
   "version": "3.5.6"
  }
 },
 "nbformat": 4,
 "nbformat_minor": 2
}
